{
 "cells": [
  {
   "cell_type": "markdown",
   "id": "053ae548-440f-42df-9ec9-d77945ba1aa9",
   "metadata": {},
   "source": [
    "Q 1. Write a code to reverse a string?\n"
   ]
  },
  {
   "cell_type": "code",
   "execution_count": 3,
   "id": "623b5c1a-596a-40aa-a9c1-4d574a084f2d",
   "metadata": {},
   "outputs": [
    {
     "name": "stdout",
     "output_type": "stream",
     "text": [
      "original string pwskills\n",
      "reversed string sllikswp\n"
     ]
    }
   ],
   "source": [
    "string = \"pwskills\"\n",
    "reversed_string = string[::-1]\n",
    "print(\"original string\", string)\n",
    "print(\"reversed string\", reversed_string)    \n"
   ]
  },
  {
   "cell_type": "markdown",
   "id": "65185661-c3df-41f8-8bea-3217c9ee84d2",
   "metadata": {},
   "source": [
    "Q2. Write a code to count the number of vowels in a string?"
   ]
  },
  {
   "cell_type": "code",
   "execution_count": 31,
   "id": "4a446304-fc50-43f6-a386-ad6efd853eba",
   "metadata": {},
   "outputs": [
    {
     "name": "stdin",
     "output_type": "stream",
     "text": [
      "enter a string:  My name is Danish\n"
     ]
    },
    {
     "name": "stdout",
     "output_type": "stream",
     "text": [
      "count_vowel:  5\n"
     ]
    }
   ],
   "source": [
    "string = input(\"enter a string: \") # Input string\n",
    "vowel = \"aeiouAEIOU\" # Define vowels (both lowercase and uppercase)\n",
    "count_vowel=0 # Initialize a counter for vowels\n",
    "for char in string:\n",
    "    if char in vowel:\n",
    "        count_vowel+=1\n",
    "print(\"count_vowel: \", count_vowel)\n",
    "    "
   ]
  },
  {
   "cell_type": "markdown",
   "id": "6dbd0593-5351-4673-b28c-b1831426c878",
   "metadata": {},
   "source": [
    "Q3. \n",
    "Write a code to check if a given string is a palindrome or not?"
   ]
  },
  {
   "cell_type": "code",
   "execution_count": 42,
   "id": "8eb1f338-0acd-4891-851d-aaf8ad95d4a4",
   "metadata": {},
   "outputs": [
    {
     "name": "stdin",
     "output_type": "stream",
     "text": [
      "Enter a String:  abccba\n"
     ]
    },
    {
     "name": "stdout",
     "output_type": "stream",
     "text": [
      "String is pelindrome\n"
     ]
    }
   ],
   "source": [
    "string = input(\"Enter a String: \")\n",
    "rev_str = (string[::-1])\n",
    "if rev_str == string:\n",
    "    print(\"String is pelindrome\")\n",
    "else:\n",
    "    print(\"not pelindrome\")"
   ]
  },
  {
   "cell_type": "code",
   "execution_count": 44,
   "id": "79caed19-1bd5-4304-9781-53c60f3172f7",
   "metadata": {},
   "outputs": [
    {
     "name": "stdin",
     "output_type": "stream",
     "text": [
      "Enter a String:  welcome\n"
     ]
    },
    {
     "name": "stdout",
     "output_type": "stream",
     "text": [
      "not pelindrome\n"
     ]
    }
   ],
   "source": [
    "string = input(\"Enter a String: \")\n",
    "rev_str = (string[::-1])\n",
    "if rev_str == string:\n",
    "    print(\"String is pelindrome\")\n",
    "else:\n",
    "    print(\"not pelindrome\")"
   ]
  },
  {
   "cell_type": "markdown",
   "id": "6f905d26-bbe4-49ba-b3ad-1242a412715f",
   "metadata": {},
   "source": [
    "Q4. Write a code to check if two given strings are anagrams of each other?"
   ]
  },
  {
   "cell_type": "code",
   "execution_count": 6,
   "id": "9569d6fb-4c53-4559-bd65-dc0d544d0dc2",
   "metadata": {},
   "outputs": [
    {
     "name": "stdout",
     "output_type": "stream",
     "text": [
      "\"listen\" and \"silent\" are anagrams.\n"
     ]
    }
   ],
   "source": [
    "# Input strings\n",
    "string1 = \"listen\"\n",
    "string2 = \"silent\"\n",
    "\n",
    "# Remove spaces and convert to lowercase\n",
    "string1 = string1.replace(\" \", \"\").lower()\n",
    "string2 = string2.replace(\" \", \"\").lower()\n",
    "\n",
    "# Check if sorted characters of both strings are equal\n",
    "if sorted(string1) == sorted(string2):\n",
    "    print(f'\"{string1}\" and \"{string2}\" are anagrams.')\n",
    "else:\n",
    "    print(f'\"{string1}\" and \"{string2}\" are not anagrams.')\n"
   ]
  },
  {
   "cell_type": "markdown",
   "id": "dc8f1a46-9eb2-4c5d-a84f-1e26980f54b3",
   "metadata": {},
   "source": [
    "Q 5. Write a code to find all occurrences of a given substring within another string?"
   ]
  },
  {
   "cell_type": "code",
   "execution_count": 7,
   "id": "1a352b93-53c9-425d-9ed1-1c95bc85ea7a",
   "metadata": {},
   "outputs": [
    {
     "name": "stdout",
     "output_type": "stream",
     "text": [
      "All occurrences of the substring are at indices: [10, 36]\n"
     ]
    }
   ],
   "source": [
    "# Input strings\n",
    "main_string = \"This is a test string and this is a test example.\"\n",
    "substring = \"test\"\n",
    "\n",
    "# Initialize an empty list to store the indices of occurrences\n",
    "indices = []\n",
    "\n",
    "# Initialize the starting position\n",
    "start = 0\n",
    "\n",
    "while True:\n",
    "    # Find the position of the substring\n",
    "    pos = main_string.find(substring, start)\n",
    "    if pos == -1:\n",
    "        # If substring is not found, break the loop\n",
    "        break\n",
    "    # Append the index to the list\n",
    "    indices.append(pos)\n",
    "    # Update the starting position for the next search\n",
    "    start = pos + 1\n",
    "\n",
    "# Print the list of indices\n",
    "print(\"All occurrences of the substring are at indices:\", indices)"
   ]
  },
  {
   "cell_type": "markdown",
   "id": "b268f810-c8a3-45c1-b4a8-30b46a1b56b8",
   "metadata": {},
   "source": [
    "Q6. Write a code to perform basic string compression using the counts of repeated characters?"
   ]
  },
  {
   "cell_type": "code",
   "execution_count": 8,
   "id": "3c535af2-4518-4107-8d1e-931ae4630e77",
   "metadata": {},
   "outputs": [
    {
     "name": "stdout",
     "output_type": "stream",
     "text": [
      "Compressed String: a3b2c1d4e1\n"
     ]
    }
   ],
   "source": [
    "# Input string\n",
    "input_string = \"aaabbcdddde\"\n",
    "\n",
    "# Initialize the compressed string\n",
    "compressed_string = \"\"\n",
    "\n",
    "# Initialize the count of characters\n",
    "count = 1\n",
    "\n",
    "# Iterate through the string\n",
    "for i in range(1, len(input_string)):\n",
    "    if input_string[i] == input_string[i - 1]:\n",
    "        # If the current character is the same as the previous one, increment the count\n",
    "        count += 1\n",
    "    else:\n",
    "        # Otherwise, append the previous character and its count to the compressed string\n",
    "        compressed_string += input_string[i - 1] + str(count)\n",
    "        # Reset the count to 1\n",
    "        count = 1\n",
    "\n",
    "# Append the last character and its count\n",
    "compressed_string += input_string[-1] + str(count)\n",
    "\n",
    "# Print the compressed string\n",
    "print(\"Compressed String:\", compressed_string)\n"
   ]
  },
  {
   "cell_type": "markdown",
   "id": "f85430c8-1636-4e45-9421-83c0224f5bd4",
   "metadata": {},
   "source": [
    "Q7. Write a code to determine if a string has all unique characters?"
   ]
  },
  {
   "cell_type": "code",
   "execution_count": 9,
   "id": "95c1fbc1-b193-4631-aa8d-8c35e30438d2",
   "metadata": {},
   "outputs": [
    {
     "name": "stdout",
     "output_type": "stream",
     "text": [
      "The string \"abcdefg\" has all unique characters.\n"
     ]
    }
   ],
   "source": [
    "# Input string\n",
    "input_string = \"abcdefg\"\n",
    "\n",
    "# Use a set to track unique characters\n",
    "unique_chars = set()\n",
    "\n",
    "# Iterate through each character in the string\n",
    "for char in input_string:\n",
    "    if char in unique_chars:\n",
    "        print(f'The string \"{input_string}\" does not have all unique characters.')\n",
    "        break\n",
    "    unique_chars.add(char)\n",
    "else:\n",
    "    print(f'The string \"{input_string}\" has all unique characters.')\n"
   ]
  },
  {
   "cell_type": "markdown",
   "id": "e518bed9-ebc7-44d4-a3c9-3b9646af847d",
   "metadata": {},
   "source": [
    "Q8. Write a code to convert a given string to uppercase or lowercases?"
   ]
  },
  {
   "cell_type": "code",
   "execution_count": 31,
   "id": "86d7d59d-464f-4a32-aa4c-3038cafc7b4c",
   "metadata": {},
   "outputs": [
    {
     "name": "stdout",
     "output_type": "stream",
     "text": [
      "upper string:  pwskills\n",
      "upper string:  PWSKILLS\n"
     ]
    }
   ],
   "source": [
    "string = \"PWSkills\"\n",
    "\n",
    "upper_string = string.upper()\n",
    "lower_string = string.lower()\n",
    "\n",
    "print(\"upper string: \", lower_string)\n",
    "print(\"upper string: \", upper_string)"
   ]
  },
  {
   "cell_type": "markdown",
   "id": "275177ac-f448-459b-8646-2b950940b700",
   "metadata": {},
   "source": [
    "Q 9. Write a code to count the number of words in a string?"
   ]
  },
  {
   "cell_type": "code",
   "execution_count": 40,
   "id": "c9629820-7a7b-4b87-9053-ad3140d2e5ef",
   "metadata": {},
   "outputs": [
    {
     "name": "stdout",
     "output_type": "stream",
     "text": [
      "Number of words in the string: 4\n"
     ]
    }
   ],
   "source": [
    "string = \"This is Danish Ansari.\"\n",
    "\n",
    "# Split the string into words\n",
    "words = string.split()\n",
    "\n",
    "# Count the number of words\n",
    "word_count = len(words)\n",
    "\n",
    "# Print the word count\n",
    "print(\"Number of words in the string:\", word_count)\n"
   ]
  },
  {
   "cell_type": "markdown",
   "id": "a6f61ee5-13ce-4662-9873-2d7d2eeea2c4",
   "metadata": {},
   "source": [
    "Q10. Write a code to concatenate two strings without using the + operator?"
   ]
  },
  {
   "cell_type": "code",
   "execution_count": 30,
   "id": "47bfb7eb-f672-48f8-ad01-87e2f4562017",
   "metadata": {},
   "outputs": [
    {
     "name": "stdout",
     "output_type": "stream",
     "text": [
      "Concatenated String: Hello, World!\n"
     ]
    }
   ],
   "source": [
    "# Input strings\n",
    "string1 = \"Hello, \"\n",
    "string2 = \"World!\"\n",
    "\n",
    "# Concatenate using f-strings\n",
    "concatenated_string = f\"{string1}{string2}\"\n",
    "\n",
    "# Print the concatenated string\n",
    "print(\"Concatenated String:\", concatenated_string)"
   ]
  },
  {
   "cell_type": "markdown",
   "id": "6cf5a49b-5ef3-439e-a821-d357050a77e1",
   "metadata": {},
   "source": [
    "Q11. Write a code to remove all occurrences of a specific element from a list?"
   ]
  },
  {
   "cell_type": "code",
   "execution_count": 45,
   "id": "ba8a8bfb-2742-420f-bda6-f56fece27707",
   "metadata": {},
   "outputs": [
    {
     "name": "stdout",
     "output_type": "stream",
     "text": [
      "List after removing all occurrences of 2 : [1, 3, 4, 5, 8, 9]\n"
     ]
    }
   ],
   "source": [
    "# Sample list\n",
    "list = [1, 2, 3, 4, 2, 5, 2, 8, 9]\n",
    "\n",
    "# Element to remove\n",
    "element_to_remove = 2\n",
    "\n",
    "# Using list comprehension to remove all occurrences of the element\n",
    "filtered_list = [x for x in list if x != element_to_remove]\n",
    "\n",
    "# Print the filtered list\n",
    "print(\"List after removing all occurrences of\", element_to_remove, \":\", filtered_list)\n"
   ]
  },
  {
   "cell_type": "markdown",
   "id": "89c39a9a-2441-4b53-bc47-6dceee5bea33",
   "metadata": {},
   "source": [
    "Q12. Implement a code to find the second largest number in ' given list of integers?"
   ]
  },
  {
   "cell_type": "code",
   "execution_count": 46,
   "id": "47896e76-c4b6-4aca-93c8-ef9b8e604dae",
   "metadata": {},
   "outputs": [
    {
     "name": "stdout",
     "output_type": "stream",
     "text": [
      "Second largest number: 15\n"
     ]
    }
   ],
   "source": [
    "def find_second_largest(nums):\n",
    "    # Check if the list has at least two elements\n",
    "    if len(nums) < 2:\n",
    "        return \"List should have at least two elements\"\n",
    "\n",
    "    # Sort the list in descending order\n",
    "    sorted_nums = sorted(nums, reverse=True)\n",
    "\n",
    "    # The second largest number is the second element in the sorted list\n",
    "    second_largest = sorted_nums[1]\n",
    "\n",
    "    return second_largest\n",
    "\n",
    "# Example usage\n",
    "my_list = [10, 5, 8, 20, 2, 15]\n",
    "result = find_second_largest(my_list)\n",
    "print(\"Second largest number:\", result)\n"
   ]
  },
  {
   "cell_type": "markdown",
   "id": "74e1e3f0-393d-4051-a01d-5aa54b8dd8e6",
   "metadata": {},
   "source": [
    "Q13. Create a code to count the occurrences of each element in a list and return a dictionary with elements as keys and their counts as values?"
   ]
  },
  {
   "cell_type": "code",
   "execution_count": 47,
   "id": "135c09af-4ace-4bdb-84c3-d8fc42e74d15",
   "metadata": {},
   "outputs": [
    {
     "name": "stdout",
     "output_type": "stream",
     "text": [
      "Element counts: {1: 2, 2: 4, 3: 2, 4: 1, 5: 1}\n"
     ]
    }
   ],
   "source": [
    "def count_elements(lst):\n",
    "    # Initialize an empty dictionary to store counts\n",
    "    count_dict = {}\n",
    "\n",
    "    # Iterate through the list and count occurrences of each element\n",
    "    for element in lst:\n",
    "        if element in count_dict:\n",
    "            count_dict[element] += 1\n",
    "        else:\n",
    "            count_dict[element] = 1\n",
    "\n",
    "    return count_dict\n",
    "\n",
    "# Example usage\n",
    "my_list = [1, 2, 3, 2, 1, 2, 4, 5, 3, 2]\n",
    "result = count_elements(my_list)\n",
    "print(\"Element counts:\", result)\n"
   ]
  },
  {
   "cell_type": "markdown",
   "id": "34d6e6d0-800e-4fbb-a75b-009fc9ea2dde",
   "metadata": {},
   "source": [
    "Q14. Write a code to reverse a list in-place without using any built-in reverse functions?"
   ]
  },
  {
   "cell_type": "code",
   "execution_count": 2,
   "id": "35993e4a-042b-4a31-85d3-a40427c9ec31",
   "metadata": {},
   "outputs": [
    {
     "name": "stdout",
     "output_type": "stream",
     "text": [
      "[5, 4, 3, 2, 1]\n"
     ]
    }
   ],
   "source": [
    "def reverse_list_in_place(lst):\n",
    "    left_index = 0\n",
    "    right_index = len(lst) - 1\n",
    "    \n",
    "    while left_index < right_index:\n",
    "        # Swap the elements at left_index and right_index\n",
    "        lst[left_index], lst[right_index] = lst[right_index], lst[left_index]\n",
    "        \n",
    "        # Move the indices towards the middle\n",
    "        left_index += 1\n",
    "        right_index -= 1\n",
    "\n",
    "# Example usage:\n",
    "my_list = [1, 2, 3, 4, 5]\n",
    "reverse_list_in_place(my_list)\n",
    "print(my_list)\n"
   ]
  },
  {
   "cell_type": "markdown",
   "id": "b404f2b9-1e02-4e88-b026-3c34ec10d302",
   "metadata": {},
   "source": [
    "Q15. implement a code to find and remove duplicates from a list while preserving the original order of elements?"
   ]
  },
  {
   "cell_type": "code",
   "execution_count": 4,
   "id": "e8aa3d74-4e21-4d28-8b50-955d8a561420",
   "metadata": {},
   "outputs": [
    {
     "name": "stdout",
     "output_type": "stream",
     "text": [
      "[1, 2, 3, 4, 5, 6]\n"
     ]
    }
   ],
   "source": [
    "def remove_duplicates_preserve_order(lst):\n",
    "    seen = set()\n",
    "    result = []\n",
    "    for item in lst:\n",
    "        if item not in seen:\n",
    "            result.append(item)\n",
    "            seen.add(item)\n",
    "    return result\n",
    "\n",
    "# Example usage:\n",
    "my_list = [1, 2, 3, 2, 1, 4, 5, 4, 6]\n",
    "unique_list = remove_duplicates_preserve_order(my_list)\n",
    "print(unique_list)\n"
   ]
  },
  {
   "cell_type": "markdown",
   "id": "672bc388-b8bd-4747-96db-f2fee64f7012",
   "metadata": {},
   "source": [
    "Q16. Create a code to check if a given list is sorted (either in assending or dessending order) or not?"
   ]
  },
  {
   "cell_type": "code",
   "execution_count": 5,
   "id": "e1c01763-da82-457d-b54b-176646c59cfb",
   "metadata": {},
   "outputs": [
    {
     "name": "stdout",
     "output_type": "stream",
     "text": [
      "True\n",
      "True\n",
      "False\n"
     ]
    }
   ],
   "source": [
    "def is_sorted(lst):\n",
    "    if len(lst) < 2:\n",
    "        return True\n",
    "\n",
    "    ascending = True\n",
    "    descending = True\n",
    "\n",
    "    for i in range(1, len(lst)):\n",
    "        if lst[i] < lst[i - 1]:\n",
    "            ascending = False\n",
    "        if lst[i] > lst[i - 1]:\n",
    "            descending = False\n",
    "\n",
    "    return ascending or descending\n",
    "\n",
    "# Example usage:\n",
    "my_list_ascending = [1, 2, 3, 4, 5]\n",
    "my_list_descending = [5, 4, 3, 2, 1]\n",
    "my_list_unsorted = [3, 1, 4, 2, 5]\n",
    "\n",
    "print(is_sorted(my_list_ascending))   # Output: True\n",
    "print(is_sorted(my_list_descending))  # Output: True\n",
    "print(is_sorted(my_list_unsorted))    # Output: False\n"
   ]
  },
  {
   "cell_type": "markdown",
   "id": "68c833ca-7f95-4f2d-93c6-2a016e8db015",
   "metadata": {},
   "source": [
    "Q17. Write a code to merge two sorted lists into a single sorted list?"
   ]
  },
  {
   "cell_type": "code",
   "execution_count": 7,
   "id": "be46a050-003b-4615-b57e-dcc370c146d8",
   "metadata": {},
   "outputs": [
    {
     "name": "stdout",
     "output_type": "stream",
     "text": [
      "[1, 2, 3, 4, 5, 6, 7, 8]\n",
      "[1, 1, 2, 2, 3, 3, 4, 4]\n"
     ]
    }
   ],
   "source": [
    "# Step 1: Define the lists\n",
    "sorted_list1 = [1, 3, 5, 7]\n",
    "sorted_list2 = [2, 4, 6, 8]\n",
    "\n",
    "# Step 2: Define the function\n",
    "def merge_sorted_lists(list1, list2):\n",
    "    merged_list = []\n",
    "    i, j = 0, 0\n",
    "\n",
    "    while i < len(list1) and j < len(list2):\n",
    "        if list1[i] < list2[j]:\n",
    "            merged_list.append(list1[i])\n",
    "            i += 1\n",
    "        else:\n",
    "            merged_list.append(list2[j])\n",
    "            j += 1\n",
    "\n",
    "    # Append any remaining elements from list1\n",
    "    while i < len(list1):\n",
    "        merged_list.append(list1[i])\n",
    "        i += 1\n",
    "\n",
    "    # Append any remaining elements from list2\n",
    "    while j < len(list2):\n",
    "        merged_list.append(list2[j])\n",
    "        j += 1\n",
    "\n",
    "    return merged_list\n",
    "\n",
    "# Step 3: Call the function with the lists\n",
    "merged_list = merge_sorted_lists(sorted_list1, sorted_list2)\n",
    "print(merged_list)  # Output: [1, 2, 3, 4, 5, 6, 7, 8]\n",
    "\n",
    "# Example with identical lists\n",
    "sorted_list3 = [1, 2, 3, 4]\n",
    "sorted_list4 = [1, 2, 3, 4]\n",
    "merged_list_same = merge_sorted_lists(sorted_list3, sorted_list4)\n",
    "print(merged_list_same)  # Output: [1, 1, 2, 2, 3, 3, 4, 4]\n",
    "\n"
   ]
  },
  {
   "cell_type": "markdown",
   "id": "9ba31632-2756-483c-96c9-080bf20689ca",
   "metadata": {},
   "source": [
    "Q18. Implement a code to find the intersection of two given list?"
   ]
  },
  {
   "cell_type": "code",
   "execution_count": 8,
   "id": "69b19c47-af71-4bce-905f-d6637c917d33",
   "metadata": {},
   "outputs": [
    {
     "name": "stdout",
     "output_type": "stream",
     "text": [
      "[4, 5]\n"
     ]
    }
   ],
   "source": [
    "def find_intersection(list1, list2):\n",
    "    set1 = set(list1)\n",
    "    intersection = [item for item in list2 if item in set1]\n",
    "    return intersection\n",
    "\n",
    "# Example usage:\n",
    "list1 = [1, 2, 3, 4, 5]\n",
    "list2 = [4, 5, 6, 7, 8]\n",
    "intersection = find_intersection(list1, list2)\n",
    "print(intersection)  # Output: [4, 5]\n"
   ]
  },
  {
   "cell_type": "markdown",
   "id": "9d976f0a-14e9-4387-941e-e05c96bc9391",
   "metadata": {},
   "source": [
    "Q19. create a code to find the union of two lists without duplicates?"
   ]
  },
  {
   "cell_type": "code",
   "execution_count": 9,
   "id": "9f22e924-804d-4129-9a03-953da6ea69a5",
   "metadata": {},
   "outputs": [
    {
     "name": "stdout",
     "output_type": "stream",
     "text": [
      "[1, 2, 3, 4, 5, 6, 7, 8]\n"
     ]
    }
   ],
   "source": [
    "def find_union(list1, list2):\n",
    "    union_set = set(list1).union(set(list2))\n",
    "    union_list = list(union_set)\n",
    "    return union_list\n",
    "\n",
    "# Example usage:\n",
    "list1 = [1, 2, 3, 4, 5]\n",
    "list2 = [4, 5, 6, 7, 8]\n",
    "union = find_union(list1, list2)\n",
    "print(union)  # Output: [1, 2, 3, 4, 5, 6, 7, 8]\n"
   ]
  },
  {
   "cell_type": "markdown",
   "id": "19c0026a-ce71-4789-9eef-70af82a113ac",
   "metadata": {},
   "source": [
    "Q20. Write a code to shuffle a given list randomly without using an built-in shuffle function?"
   ]
  },
  {
   "cell_type": "code",
   "execution_count": 19,
   "id": "77525e5d-cfd0-4551-b53c-e9eb87a0e4ae",
   "metadata": {},
   "outputs": [
    {
     "name": "stdout",
     "output_type": "stream",
     "text": [
      "[2, 5, 4, 3, 1]\n"
     ]
    }
   ],
   "source": [
    "import random\n",
    "\n",
    "def shuffle_list(lst):\n",
    "    # Make a copy of the list to avoid modifying the original list\n",
    "    shuffled_list = lst[:]\n",
    "    \n",
    "    # Perform Fisher-Yates shuffle\n",
    "    n = len(shuffled_list)\n",
    "    for i in range(n - 1, 0, -1):\n",
    "        # Pick a random index to swap with\n",
    "        j = random.randint(0, i)\n",
    "        \n",
    "        # Swap elements at i and j\n",
    "        shuffled_list[i], shuffled_list[j] = shuffled_list[j], shuffled_list[i]\n",
    "    \n",
    "    return shuffled_list\n",
    "\n",
    "# Example usage:\n",
    "my_list = [1, 2, 3, 4, 5]\n",
    "shuffled_list = shuffle_list(my_list)\n",
    "print(shuffled_list)\n",
    "\n"
   ]
  },
  {
   "cell_type": "markdown",
   "id": "b4c00480-a566-4460-92f1-0ab7db523b8e",
   "metadata": {},
   "source": [
    "Q21. Write a code that takes two tuples as input and returns a new tuple containing elements that are common to both input tuples?"
   ]
  },
  {
   "cell_type": "code",
   "execution_count": 21,
   "id": "5182b66a-79c8-4519-a489-73c85a83f217",
   "metadata": {},
   "outputs": [
    {
     "name": "stdout",
     "output_type": "stream",
     "text": [
      "(4, 5)\n"
     ]
    }
   ],
   "source": [
    "def find_common_elements(tuple1, tuple2):\n",
    "    set1 = set(tuple1)\n",
    "    set2 = set(tuple2)\n",
    "    common_elements = tuple(set1.intersection(set2))\n",
    "    return common_elements\n",
    "\n",
    "# Example usage:\n",
    "tuple1 = (1, 2, 3, 4, 5)\n",
    "tuple2 = (4, 5, 6, 7, 8)\n",
    "common_elements = find_common_elements(tuple1, tuple2)\n",
    "print(common_elements)  "
   ]
  },
  {
   "cell_type": "markdown",
   "id": "e1a1aaab-f66b-4598-8b5b-574f811a4240",
   "metadata": {},
   "source": [
    "Q22. Create a code that prompts the user to enter two sets of integers separated by comas. Then, print the intersection of these two sets?"
   ]
  },
  {
   "cell_type": "code",
   "execution_count": 24,
   "id": "1979e760-2381-4194-bd12-b87888d74039",
   "metadata": {},
   "outputs": [
    {
     "name": "stdin",
     "output_type": "stream",
     "text": [
      "Enter the first set of integers separated by commas:  1,2,3,4,5\n",
      "Enter the second set of integers separated by commas:  4,5,6,7,8\n"
     ]
    },
    {
     "name": "stdout",
     "output_type": "stream",
     "text": [
      "Intersection of the two sets: {4, 5}\n"
     ]
    }
   ],
   "source": [
    "def get_set_from_input():\n",
    "    # Prompt user to enter two sets of integers separated by commas\n",
    "    set1_str = input(\"Enter the first set of integers separated by commas: \")\n",
    "    set2_str = input(\"Enter the second set of integers separated by commas: \")\n",
    "\n",
    "    # Convert input strings to sets of integers\n",
    "    set1 = set(int(num) for num in set1_str.split(','))\n",
    "    set2 = set(int(num) for num in set2_str.split(','))\n",
    "\n",
    "    return set1, set2\n",
    "\n",
    "def find_intersection(set1, set2):\n",
    "    # Find intersection of the two sets\n",
    "    intersection = set1.intersection(set2)\n",
    "    return intersection\n",
    "\n",
    "if __name__ == \"__main__\":\n",
    "    # Get sets from user input\n",
    "    set1, set2 = get_set_from_input()\n",
    "\n",
    "    # Find and print intersection\n",
    "    intersection = find_intersection(set1, set2)\n",
    "    print(\"Intersection of the two sets:\", intersection)\n"
   ]
  },
  {
   "cell_type": "markdown",
   "id": "5fe4d94c-a7fb-470f-9ecf-8dccab417a9a",
   "metadata": {},
   "source": [
    "Q23. Write a code to concatenate two tuples. The function should take two tuples as input and return a new\n",
    "tuple containing elements from both input tuple?"
   ]
  },
  {
   "cell_type": "code",
   "execution_count": 27,
   "id": "58bd7741-5ea2-4fff-9e96-7e0d0b143be4",
   "metadata": {},
   "outputs": [
    {
     "name": "stdout",
     "output_type": "stream",
     "text": [
      "(1, 2, 3, 4, 5, 6)\n"
     ]
    }
   ],
   "source": [
    "# Example tuples\n",
    "tuple1 = (1, 2, 3)\n",
    "tuple2 = (4, 5, 6)\n",
    "\n",
    "# Concatenate tuples\n",
    "concatenated_tuple = tuple1 + tuple2\n",
    "\n",
    "# Print the concatenated tuple\n",
    "print(concatenated_tuple)\n",
    "\n"
   ]
  },
  {
   "cell_type": "markdown",
   "id": "cd859e5e-04b3-4e6f-acda-86a737bac320",
   "metadata": {},
   "source": [
    "Q24, Develop a code that prompts the user to input two sets of strings. Then, print the elements that are present in the first set but not in the second set?"
   ]
  },
  {
   "cell_type": "code",
   "execution_count": 29,
   "id": "2da36819-203a-4b55-9834-ae67b199144c",
   "metadata": {},
   "outputs": [
    {
     "name": "stdin",
     "output_type": "stream",
     "text": [
      "Enter the first set of strings separated by commas:  apple,banana,cherry\n",
      "Enter the second set of strings separated by commas:  banana,kiwi\n"
     ]
    },
    {
     "name": "stdout",
     "output_type": "stream",
     "text": [
      "Elements present in the first set but not in the second set:\n",
      "{'cherry', 'apple'}\n"
     ]
    }
   ],
   "source": [
    "# Function to get a set of strings from user input\n",
    "def get_set_from_input(prompt):\n",
    "    user_input = input(prompt)\n",
    "    return set(user_input.split(','))\n",
    "\n",
    "# Prompt the user to enter two sets of strings\n",
    "set1 = get_set_from_input(\"Enter the first set of strings separated by commas: \")\n",
    "set2 = get_set_from_input(\"Enter the second set of strings separated by commas: \")\n",
    "\n",
    "# Find the difference (elements in set1 but not in set2)\n",
    "difference = set1 - set2\n",
    "\n",
    "# Print the result\n",
    "print(\"Elements present in the first set but not in the second set:\")\n",
    "print(difference)\n"
   ]
  },
  {
   "cell_type": "markdown",
   "id": "bf55b4a1-ac8a-461d-a55f-fda6a263326f",
   "metadata": {},
   "source": [
    "Q25. create a code that takes a tuple and two integers as input. the function should return a new tuple containing elements from the original tuple within the specified range of indices?"
   ]
  },
  {
   "cell_type": "code",
   "execution_count": 31,
   "id": "a7f129fd-9b32-4d32-9bef-86dd46364f6a",
   "metadata": {},
   "outputs": [
    {
     "name": "stdout",
     "output_type": "stream",
     "text": [
      "(3, 4, 5, 6)\n"
     ]
    }
   ],
   "source": [
    "def get_elements_in_range(input_tuple, start_index, end_index):\n",
    "    # Ensure start_index and end_index are within valid bounds\n",
    "    start_index = max(start_index, 0)\n",
    "    end_index = min(end_index + 1, len(input_tuple))  # end_index + 1 to include the end_index element\n",
    "\n",
    "    # Return a new tuple containing elements within the specified range of indices\n",
    "    return input_tuple[start_index:end_index]\n",
    "\n",
    "# Example usage:\n",
    "my_tuple = (1, 2, 3, 4, 5, 6, 7, 8, 9, 10)\n",
    "start_index = 2\n",
    "end_index = 5\n",
    "result_tuple = get_elements_in_range(my_tuple, start_index, end_index)\n",
    "print(result_tuple) "
   ]
  },
  {
   "cell_type": "markdown",
   "id": "034f4dcf-27bd-4d33-8b70-a0a9ee807883",
   "metadata": {},
   "source": [
    "Q26. write a code that prompts the user to input two sets of characters. Then, print the union of these two sets?"
   ]
  },
  {
   "cell_type": "code",
   "execution_count": 33,
   "id": "af8299a2-7abc-4725-b34a-a6e2dcf5344a",
   "metadata": {},
   "outputs": [
    {
     "name": "stdin",
     "output_type": "stream",
     "text": [
      "Enter the first set of characters:  abcdef\n",
      "Enter the second set of characters:  defghi\n"
     ]
    },
    {
     "name": "stdout",
     "output_type": "stream",
     "text": [
      "Union of the two sets of characters:\n",
      "{'c', 'd', 'b', 'i', 'a', 'e', 'h', 'f', 'g'}\n"
     ]
    }
   ],
   "source": [
    "# Function to get a set of characters from user input\n",
    "def get_set_of_characters(prompt):\n",
    "    user_input = input(prompt)\n",
    "    return set(user_input)\n",
    "\n",
    "# Prompt the user to enter two sets of characters\n",
    "set1 = get_set_of_characters(\"Enter the first set of characters: \")\n",
    "set2 = get_set_of_characters(\"Enter the second set of characters: \")\n",
    "\n",
    "# Compute the union of the two sets\n",
    "union_set = set1.union(set2)\n",
    "\n",
    "# Print the union set\n",
    "print(\"Union of the two sets of characters:\")\n",
    "print(union_set)\n"
   ]
  },
  {
   "cell_type": "markdown",
   "id": "9ea5a596-0855-4022-83fc-c35aaeb24de0",
   "metadata": {},
   "source": [
    "Q27. Develop a code that takes a tuple of integers as input. The function should return the maximum and minimum values from the tuple using tuple unpacking?"
   ]
  },
  {
   "cell_type": "code",
   "execution_count": 34,
   "id": "b8879d6f-0e66-4ec8-8ee1-de71e7611a5e",
   "metadata": {},
   "outputs": [
    {
     "name": "stdout",
     "output_type": "stream",
     "text": [
      "Minimum value: 2, Maximum value: 20\n"
     ]
    }
   ],
   "source": [
    "def find_min_max(input_tuple):\n",
    "    if not input_tuple:\n",
    "        return None, None  # Handle empty tuple case\n",
    "\n",
    "    # Use tuple unpacking to find min and max\n",
    "    min_value = min(input_tuple)\n",
    "    max_value = max(input_tuple)\n",
    "\n",
    "    return min_value, max_value\n",
    "\n",
    "# Example usage:\n",
    "my_tuple = (10, 5, 7, 13, 2, 20)\n",
    "min_value, max_value = find_min_max(my_tuple)\n",
    "print(f\"Minimum value: {min_value}, Maximum value: {max_value}\")\n"
   ]
  },
  {
   "cell_type": "markdown",
   "id": "cbcb091e-7694-440d-a592-a3929d71b8f1",
   "metadata": {},
   "source": [
    "Q28. create a code that defines two sets of integers. Then, print the union, intersection, and difference of these two sets? "
   ]
  },
  {
   "cell_type": "code",
   "execution_count": 35,
   "id": "26b8cd25-0ffb-47f7-a532-35b2c7ea18ec",
   "metadata": {},
   "outputs": [
    {
     "name": "stdout",
     "output_type": "stream",
     "text": [
      "Set 1: {1, 2, 3, 4, 5}\n",
      "Set 2: {4, 5, 6, 7, 8}\n",
      "Union of Set 1 and Set 2: {1, 2, 3, 4, 5, 6, 7, 8}\n",
      "Intersection of Set 1 and Set 2: {4, 5}\n",
      "Difference (Set 1 - Set 2): {1, 2, 3}\n"
     ]
    }
   ],
   "source": [
    "# Define two sets of integers\n",
    "set1 = {1, 2, 3, 4, 5}\n",
    "set2 = {4, 5, 6, 7, 8}\n",
    "\n",
    "# Print the sets\n",
    "print(f\"Set 1: {set1}\")\n",
    "print(f\"Set 2: {set2}\")\n",
    "\n",
    "# Compute and print union, intersection, and difference\n",
    "union_set = set1.union(set2)\n",
    "intersection_set = set1.intersection(set2)\n",
    "difference_set = set1.difference(set2)\n",
    "\n",
    "print(f\"Union of Set 1 and Set 2: {union_set}\")\n",
    "print(f\"Intersection of Set 1 and Set 2: {intersection_set}\")\n",
    "print(f\"Difference (Set 1 - Set 2): {difference_set}\")\n"
   ]
  },
  {
   "cell_type": "markdown",
   "id": "4ebecf25-86ba-4f8a-b90c-bc1bffb57412",
   "metadata": {},
   "source": [
    "Q29. write a code that takes a tuple and an element as input. The function should return the count of occurrences of the given element in the tuple?  "
   ]
  },
  {
   "cell_type": "code",
   "execution_count": 36,
   "id": "99cc6263-294b-4c55-ad31-bff244362463",
   "metadata": {},
   "outputs": [
    {
     "name": "stdout",
     "output_type": "stream",
     "text": [
      "The element 2 appears 3 times in the tuple.\n"
     ]
    }
   ],
   "source": [
    "def count_occurrences(input_tuple, element):\n",
    "    # Use the count() method of tuples to count occurrences of the element\n",
    "    return input_tuple.count(element)\n",
    "\n",
    "# Example usage:\n",
    "my_tuple = (1, 2, 3, 2, 4, 2, 5)\n",
    "element_to_count = 2\n",
    "occurrences = count_occurrences(my_tuple, element_to_count)\n",
    "print(f\"The element {element_to_count} appears {occurrences} times in the tuple.\")\n"
   ]
  },
  {
   "cell_type": "markdown",
   "id": "75b89d47-7c21-46dd-9e0f-1b9c2babfeef",
   "metadata": {},
   "source": [
    "Q30. develop a code that prompts the user to input two sets of strings. Then, print the symmetric difference of these two Sets?"
   ]
  },
  {
   "cell_type": "code",
   "execution_count": 37,
   "id": "d1f3ce51-e5f6-4f41-81fe-a31a8557d215",
   "metadata": {},
   "outputs": [
    {
     "name": "stdin",
     "output_type": "stream",
     "text": [
      "Enter the first set of strings separated by commas:  apple,banana,cherry\n",
      "Enter the second set of strings separated by commas:  banana,kiwi\n"
     ]
    },
    {
     "name": "stdout",
     "output_type": "stream",
     "text": [
      "Symmetric Difference of the two sets of strings:\n",
      "{'kiwi', 'cherry', 'apple'}\n"
     ]
    }
   ],
   "source": [
    "# Function to get a set of strings from user input\n",
    "def get_set_of_strings(prompt):\n",
    "    user_input = input(prompt)\n",
    "    return set(user_input.split(','))\n",
    "\n",
    "# Prompt the user to enter two sets of strings\n",
    "set1 = get_set_of_strings(\"Enter the first set of strings separated by commas: \")\n",
    "set2 = get_set_of_strings(\"Enter the second set of strings separated by commas: \")\n",
    "\n",
    "# Compute and print the symmetric difference\n",
    "symmetric_difference = set1.symmetric_difference(set2)\n",
    "\n",
    "print(\"Symmetric Difference of the two sets of strings:\")\n",
    "print(symmetric_difference)\n"
   ]
  },
  {
   "cell_type": "markdown",
   "id": "2c708e29-dbfd-4501-80ff-a8e61f378d7b",
   "metadata": {},
   "source": [
    "Q31. write a code takes a list of words as input and returns a Dictionary where the keys are unique words and the values are the frequencies of those words in the input list? "
   ]
  },
  {
   "cell_type": "code",
   "execution_count": 38,
   "id": "47b1d299-c1f9-4fa5-b9c4-39fbe8ff86bb",
   "metadata": {},
   "outputs": [
    {
     "name": "stdout",
     "output_type": "stream",
     "text": [
      "Word Frequencies:\n",
      "{'apple': 3, 'banana': 2, 'orange': 1, 'kiwi': 1}\n"
     ]
    }
   ],
   "source": [
    "def word_frequency(words_list):\n",
    "    frequency_dict = {}\n",
    "    \n",
    "    # Count frequencies of each word in the list\n",
    "    for word in words_list:\n",
    "        if word in frequency_dict:\n",
    "            frequency_dict[word] += 1\n",
    "        else:\n",
    "            frequency_dict[word] = 1\n",
    "    \n",
    "    return frequency_dict\n",
    "\n",
    "# Example usage:\n",
    "words = [\"apple\", \"banana\", \"apple\", \"orange\", \"banana\", \"apple\", \"kiwi\"]\n",
    "frequency_result = word_frequency(words)\n",
    "print(\"Word Frequencies:\")\n",
    "print(frequency_result)\n"
   ]
  },
  {
   "cell_type": "markdown",
   "id": "9783f2bc-eab8-419b-bc82-51daee430535",
   "metadata": {},
   "source": [
    "Q32. write a code that takes two dictionaries as input and merges them into a single dictionary. If there are common keys, the values should be added together?  "
   ]
  },
  {
   "cell_type": "code",
   "execution_count": 39,
   "id": "7434be1b-ec35-4213-bfaf-ca84e9d2f35b",
   "metadata": {},
   "outputs": [
    {
     "name": "stdout",
     "output_type": "stream",
     "text": [
      "Merged Dictionary:\n",
      "{'a': 100, 'b': 500, 'c': 700, 'd': 500}\n"
     ]
    }
   ],
   "source": [
    "def merge_dictionaries(dict1, dict2):\n",
    "    merged_dict = dict1.copy()  # Make a copy of dict1 to start with\n",
    "    \n",
    "    for key, value in dict2.items():\n",
    "        if key in merged_dict:\n",
    "            merged_dict[key] += value  # Add values if key already exists\n",
    "        else:\n",
    "            merged_dict[key] = value   # Add new key-value pair if key doesn't exist\n",
    "    \n",
    "    return merged_dict\n",
    "\n",
    "# Example usage:\n",
    "dict1 = {'a': 100, 'b': 200, 'c': 300}\n",
    "dict2 = {'b': 300, 'c': 400, 'd': 500}\n",
    "\n",
    "merged_dict = merge_dictionaries(dict1, dict2)\n",
    "print(\"Merged Dictionary:\")\n",
    "print(merged_dict)\n"
   ]
  },
  {
   "cell_type": "markdown",
   "id": "24fcb852-bb69-4be2-af8d-736440912b46",
   "metadata": {},
   "source": [
    "Q33. Write a code to access the value in a nested dictionary. The function should take the dictionary and list of\n",
    "keys as input and return the corresponding value. If any of the keys do not exist in the dictionary the function should return None?"
   ]
  },
  {
   "cell_type": "code",
   "execution_count": 2,
   "id": "4b5b5ff5-9c19-41e2-a045-eccc87657fea",
   "metadata": {},
   "outputs": [
    {
     "name": "stdout",
     "output_type": "stream",
     "text": [
      "d\n",
      "None\n"
     ]
    }
   ],
   "source": [
    "def get_nested_value(nested_dict, key_list):\n",
    "    current_dict = nested_dict\n",
    "    for key in key_list:\n",
    "        if isinstance(current_dict, dict) and key in current_dict:\n",
    "            current_dict = current_dict[key]\n",
    "        else:\n",
    "            return None\n",
    "    return current_dict\n",
    "\n",
    "# Example usage:\n",
    "nested_dict = {\n",
    "    'a': {\n",
    "        'b': {\n",
    "            'c': 'd'\n",
    "        }\n",
    "    }\n",
    "}\n",
    "\n",
    "keys = ['a', 'b', 'c']\n",
    "print(get_nested_value(nested_dict, keys)) \n",
    "\n",
    "keys = ['a', 'b', 'x']\n",
    "print(get_nested_value(nested_dict, keys)) \n"
   ]
  },
  {
   "cell_type": "markdown",
   "id": "dbeb1f5b-2361-4f73-803a-4f0cfe57db70",
   "metadata": {},
   "source": [
    "Q34. Write a code that takes a dictionary as input and returns a sorted version of it based on the values. You can choose whether to sort in ascending or descending order?"
   ]
  },
  {
   "cell_type": "code",
   "execution_count": 3,
   "id": "d08cd4a6-a248-45a1-a571-bfa362faa293",
   "metadata": {},
   "outputs": [
    {
     "name": "stdout",
     "output_type": "stream",
     "text": [
      "{'banana': 1, 'cherry': 2, 'apple': 3}\n",
      "{'apple': 3, 'cherry': 2, 'banana': 1}\n"
     ]
    }
   ],
   "source": [
    "def sort_dict_by_values(input_dict, descending=False):\n",
    "    sorted_dict = dict(sorted(input_dict.items(), key=lambda item: item[1], reverse=descending))\n",
    "    return sorted_dict\n",
    "\n",
    "# Example usage:\n",
    "input_dict = {'apple': 3, 'banana': 1, 'cherry': 2}\n",
    "\n",
    "# Sort in ascending order\n",
    "sorted_dict_ascending = sort_dict_by_values(input_dict)\n",
    "print(sorted_dict_ascending)  # Output: {'banana': 1, 'cherry': 2, 'apple': 3}\n",
    "\n",
    "# Sort in descending order\n",
    "sorted_dict_descending = sort_dict_by_values(input_dict, descending=True)\n",
    "print(sorted_dict_descending)  # Output: {'apple': 3, 'cherry': 2, 'banana': 1}\n"
   ]
  },
  {
   "cell_type": "markdown",
   "id": "eeea8ec0-3ce7-4bbe-ba29-3ac63503cb07",
   "metadata": {},
   "source": [
    "Q35. Write a code that inverts a dictionary swapping keys and values. Ensure that the inverted dictionary correctly handles cases where multiple keys have the same value by storing the keys as a list in the inverted dictionary?"
   ]
  },
  {
   "cell_type": "code",
   "execution_count": 4,
   "id": "c2934a60-484d-4d98-b1d0-f39d3fa8e49e",
   "metadata": {},
   "outputs": [
    {
     "name": "stdout",
     "output_type": "stream",
     "text": [
      "{1: ['a', 'c'], 2: ['b', 'd']}\n"
     ]
    }
   ],
   "source": [
    "def invert_dict(input_dict):\n",
    "    inverted_dict = {}\n",
    "    for key, value in input_dict.items():\n",
    "        if value not in inverted_dict:\n",
    "            inverted_dict[value] = [key]\n",
    "        else:\n",
    "            inverted_dict[value].append(key)\n",
    "    return inverted_dict\n",
    "\n",
    "# Example usage:\n",
    "input_dict = {'a': 1, 'b': 2, 'c': 1, 'd': 2}\n",
    "\n",
    "inverted_dict = invert_dict(input_dict)\n",
    "print(inverted_dict)\n"
   ]
  },
  {
   "cell_type": "code",
   "execution_count": null,
   "id": "3d6d5d15-cd61-4867-9c76-3c3367120dd8",
   "metadata": {},
   "outputs": [],
   "source": []
  }
 ],
 "metadata": {
  "kernelspec": {
   "display_name": "Python 3 (ipykernel)",
   "language": "python",
   "name": "python3"
  },
  "language_info": {
   "codemirror_mode": {
    "name": "ipython",
    "version": 3
   },
   "file_extension": ".py",
   "mimetype": "text/x-python",
   "name": "python",
   "nbconvert_exporter": "python",
   "pygments_lexer": "ipython3",
   "version": "3.11.7"
  }
 },
 "nbformat": 4,
 "nbformat_minor": 5
}
